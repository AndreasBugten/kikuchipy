{
 "cells": [
  {
   "cell_type": "markdown",
   "metadata": {
    "nbsphinx": "hidden"
   },
   "source": [
    "This notebook is part of the `kikuchipy` documentation https://kikuchipy.org.\n",
    "Links to the documentation won't work from the notebook."
   ]
  },
  {
   "cell_type": "markdown",
   "metadata": {},
   "source": [
    "# Fit a plane to selected projection centers\n",
    "\n",
    "In this tutorial, we will fit a plane to projection centers (PCs) determined from a grid of (5, 5) EBSD patterns from a single crystal silicon wafer.\n",
    "The resulting fitted plane contains one PC per pattern in the dataset from which the grid is obtained.\n",
    "The plane of PCs can be used in subsequent indexing of the dataset.\n",
    "To relate the sample positions of the grid to the PCs, we will test both an affine transformation and a projective transformation, following the work of <cite data-cite=\"winkelmann2020refined\">Winkelmann et al. (2020)</cite>.\n",
    "\n",
    "We'll start by importing necessary libraries"
   ]
  },
  {
   "cell_type": "code",
   "execution_count": null,
   "metadata": {},
   "outputs": [],
   "source": [
    "%matplotlib inline\n",
    "\n",
    "from diffsims.crystallography import ReciprocalLatticeVector\n",
    "import kikuchipy as kp\n",
    "import matplotlib.pyplot as plt\n",
    "import numpy as np\n",
    "from orix.crystal_map import CrystalMap, create_coordinate_arrays, PhaseList\n",
    "from orix.quaternion import Rotation\n",
    "from pyebsdindex import ebsd_index, pcopt\n",
    "import skimage.filters as skf\n",
    "\n",
    "\n",
    "plt.rcParams.update(\n",
    "    {\"figure.facecolor\": \"w\", \"font.size\": 12, \"figure.dpi\": 125}\n",
    ")"
   ]
  },
  {
   "cell_type": "markdown",
   "metadata": {},
   "source": [
    "## Load and inspect data\n",
    "\n",
    "Load data lazily (~500 MB) and inspect its shape and step size"
   ]
  },
  {
   "cell_type": "code",
   "execution_count": null,
   "metadata": {},
   "outputs": [],
   "source": [
    "s = kp.data.si_wafer(allow_download=True, lazy=True)\n",
    "s"
   ]
  },
  {
   "cell_type": "markdown",
   "metadata": {},
   "source": [
    "We see that we have (50, 50) patterns of shape (480, 480), which is the full pattern resolution of the NORDIF UF-420 detector the patterns are acquired on.\n",
    "In the axes manager"
   ]
  },
  {
   "cell_type": "code",
   "execution_count": null,
   "metadata": {},
   "outputs": [],
   "source": [
    "print(s.axes_manager)"
   ]
  },
  {
   "cell_type": "markdown",
   "metadata": {},
   "source": [
    "... we see that the nominal step sizes are $(\\Delta x, \\Delta y) = (40, 40)$ $\\mu$m.\n",
    "The scan spans an area of $(2 \\times 2)$ $\\mu$m$^2$.\n",
    "The NORDIF UF-420 detector pixel size (unbinned) is about 90 $\\mu$m.\n",
    "This means that, for example, we expect the PC to shift about 2000 / 90 $\\approx$ 22 detector pixels when moving horizontally in the scan.\n",
    "To get a better understanding of the expected changes of the PC in the scan, we'll look at the mean intensity map of the sample."
   ]
  },
  {
   "cell_type": "code",
   "execution_count": null,
   "metadata": {},
   "outputs": [],
   "source": [
    "s_mean_nav = s.mean(axis=(2, 3))\n",
    "s_mean_nav.compute()  # Need this call because data was loaded lazily"
   ]
  },
  {
   "cell_type": "markdown",
   "metadata": {},
   "source": [
    "Plot it, also annotating the orientation of the scan relative to the sample position in the chamber.\n",
    "We use the [plot()](https://orix.readthedocs.io/en/stable/reference/generated/orix.crystal_map.CrystalMap.plot.html) method of the [EBSD.xmap](../reference/generated/kikuchipy.signals.EBSD.xmap.rst) attribute for this."
   ]
  },
  {
   "cell_type": "code",
   "execution_count": null,
   "metadata": {},
   "outputs": [],
   "source": [
    "s.xmap.scan_unit = \"um\"\n",
    "fig = s.xmap.plot(\n",
    "    s_mean_nav.data.ravel(),\n",
    "    colorbar=True,\n",
    "    colorbar_label=\"Mean intensity\",\n",
    "    return_figure=True,\n",
    ")\n",
    "\n",
    "# Annotate\n",
    "ax = fig.axes[0]\n",
    "ax.text(25, 1, \"Bottom\", va=\"top\", ha=\"center\")\n",
    "ax.text(25, 49, \"Top\", va=\"bottom\", ha=\"center\");"
   ]
  },
  {
   "cell_type": "markdown",
   "metadata": {},
   "source": [
    "The brighter and darker spots come from patterns acquired close to fiducial markers on the Si wafer, while the vertical gradient is a result of the Gaussian intensity distribution varying across the sample.\n",
    "The orientation of the EBSD scan is important to note: To avoid depositing carbon ahead of the scanning beam, the sample is scanned from down the sample upwards, annotated in the map above (\"Bottom\", \"Top\")."
   ]
  },
  {
   "cell_type": "markdown",
   "metadata": {},
   "source": [
    "The Bruker PC convention is used internally in kikuchipy.\n",
    "The convention measures (PCx, PCy, PCz) in the following manner, viewing the detector from behind the detector towards the sample:\n",
    "* PCx from left towards the right\n",
    "* PCy downwards from the top\n",
    "* PCz as the shortest distance from the beam-sample interaction position to the detector in fractions of the detector width.\n",
    "\n",
    "See the [reference frames tutorial](reference_frames.ipynb) for more details and conversions between conventions.\n",
    "\n",
    "Given this definition, let's annotate on the above map the expected changes to the PC (increasing in the direction of the arrow)"
   ]
  },
  {
   "cell_type": "code",
   "execution_count": null,
   "metadata": {
    "tags": []
   },
   "outputs": [],
   "source": [
    "annotate_kw = dict(\n",
    "    arrowprops=dict(arrowstyle=\"-|>\", lw=2, mutation_scale=15)\n",
    ")\n",
    "xys = [(35, 25), (40, 35), (40, 15)]\n",
    "xy_texts = [(49, 25), (40, 49), (40, 1)]\n",
    "has = [\"right\", \"center\", \"center\"]\n",
    "vas = [\"center\", \"bottom\", \"top\"]\n",
    "labels = [\"PCx\", \"PCy\", \"PCz\"]\n",
    "for xy, xytext, ha, va, label in zip(xys, xy_texts, has, vas, labels):\n",
    "    ax.annotate(label, xy=xy, xytext=xytext, ha=ha, va=va, **annotate_kw)\n",
    "\n",
    "# Show figure again with new annotations\n",
    "fig"
   ]
  },
  {
   "cell_type": "markdown",
   "metadata": {},
   "source": [
    "Our goal is to fit a plane of (PCx, PCy, PCz) to this (50, 50) map with these variations.\n",
    "To this end, we will perform the following actions:\n",
    "1. Extract an evenly spaced grid of patterns from the full dataset\n",
    "2. Get initial guesses of the PC for each grid pattern with Hough indexing (from PyEBSDIndex)\n",
    "3. Get initial guesses of the orientation for each grid pattern using the PCs with Hough indexing\n",
    "4. Refine the orientations and PCs simultaneously by matching experimental to dynamically simulated patterns (simulated with EMsoft)\n",
    "5. Fit a plane to the refined PCs"
   ]
  },
  {
   "cell_type": "markdown",
   "metadata": {},
   "source": [
    "## Extract a grid of patterns\n",
    "\n",
    "Before we extract the grid of patterns and prepare these for indexing by background correction, we obtain a binary mask to remove parts of the pattern without information (typically the corners).\n",
    "We make the mask via thresholding, and find the threshold value by using the minimum threshold algorithm implemented in scikit-image; note that they have other thresholding algorithms that might work better for other datasets."
   ]
  },
  {
   "cell_type": "code",
   "execution_count": null,
   "metadata": {},
   "outputs": [],
   "source": [
    "s_mean = s.mean((0, 1))  # (480, 480)\n",
    "mean_data = s_mean.data.compute()"
   ]
  },
  {
   "cell_type": "code",
   "execution_count": null,
   "metadata": {},
   "outputs": [],
   "source": [
    "# Threshold\n",
    "threshold = skf.threshold_minimum(mean_data)\n",
    "mask = mean_data < threshold\n",
    "\n",
    "# Extract center pattern for plotting\n",
    "p0 = s.inav[25, 25].data\n",
    "\n",
    "fig, axes = plt.subplots(ncols=3, figsize=(12, 4))\n",
    "for ax, arr, title in zip(\n",
    "    axes,\n",
    "    [p0, mask, p0 * ~mask],\n",
    "    [\"Pattern\", \"Mask\", \"Pattern * ~mask\"]\n",
    "):\n",
    "    ax.imshow(arr, cmap=\"gray\")\n",
    "    ax.axis(\"off\")\n",
    "    ax.set_title(title)\n",
    "fig.subplots_adjust(wspace=0)"
   ]
  },
  {
   "cell_type": "markdown",
   "metadata": {},
   "source": [
    "The mask efficiently removes the parts of the pattern which contains no information of interest.\n",
    "\n",
    "Extract the grid using [EBSD.extract_grid()](../reference/generated/kikuchipy.signals.EBSD.extract_grid.rst)"
   ]
  },
  {
   "cell_type": "code",
   "execution_count": null,
   "metadata": {},
   "outputs": [],
   "source": [
    "grid_shape = (5, 5)\n",
    "s_grid, idx = s.extract_grid(grid_shape, return_indices=True)\n",
    "\n",
    "nav_shape_grid = s_grid.axes_manager.navigation_shape[::-1]\n",
    "sig_shape_grid = s_grid.axes_manager.signal_shape[::-1]\n",
    "\n",
    "s_grid.compute()\n",
    "\n",
    "s_grid"
   ]
  },
  {
   "cell_type": "markdown",
   "metadata": {},
   "source": [
    "Let's plot the grid positions on the navigation map"
   ]
  },
  {
   "cell_type": "code",
   "execution_count": null,
   "metadata": {},
   "outputs": [],
   "source": [
    "kp.draw.plot_pattern_positions_in_map(\n",
    "    rc=idx.reshape(2, -1).T,\n",
    "    roi_shape=(50, 50),\n",
    "    roi_image=s_mean_nav.data,\n",
    ")"
   ]
  },
  {
   "cell_type": "markdown",
   "metadata": {},
   "source": [
    "## Initial guess of PC using Hough indexing\n",
    "\n",
    "Prepare grid patterns for PC optimization and Hough indexing with PyEBSDIndex by background removal and setting the masked out values to 0"
   ]
  },
  {
   "cell_type": "code",
   "execution_count": null,
   "metadata": {},
   "outputs": [],
   "source": [
    "s_grid.remove_static_background()\n",
    "s_grid.remove_dynamic_background()\n",
    "\n",
    "patterns_grid = s_grid.data.reshape((-1,) + sig_shape_grid).copy()\n",
    "patterns_grid[:, mask] = 0"
   ]
  },
  {
   "cell_type": "markdown",
   "metadata": {},
   "source": [
    "Create indexer"
   ]
  },
  {
   "cell_type": "code",
   "execution_count": null,
   "metadata": {},
   "outputs": [],
   "source": [
    "indexer = ebsd_index.EBSDIndexer(\n",
    "    phaselist=[\"FCC\"],\n",
    "    vendor=\"kikuchipy\",\n",
    "    sampleTilt=70,\n",
    "    camElev=0,\n",
    "    patDim=sig_shape_grid,\n",
    "    nBands=6,  # Default is 9\n",
    ")"
   ]
  },
  {
   "cell_type": "markdown",
   "metadata": {},
   "source": [
    "Optimize PCs of the patterns in the grid using an initial guess based on previous knowledge of PCs in the same microscope"
   ]
  },
  {
   "cell_type": "code",
   "execution_count": null,
   "metadata": {},
   "outputs": [],
   "source": [
    "pc_grid = pcopt.optimize(\n",
    "    pats=patterns_grid, indexer=indexer, PC0=[0.52, 0.16, 0.50], batch=True\n",
    ")\n",
    "\n",
    "print(pc_grid.mean(0))\n",
    "print(pc_grid.std(0))"
   ]
  },
  {
   "cell_type": "markdown",
   "metadata": {},
   "source": [
    "Store the PCs in an [EBSDDetector](../reference/generated/kikuchipy.detectors.EBSDDetector.rst) and plot them"
   ]
  },
  {
   "cell_type": "code",
   "execution_count": null,
   "metadata": {},
   "outputs": [],
   "source": [
    "det_grid = kp.detectors.EBSDDetector(\n",
    "    shape=sig_shape_grid,\n",
    "    pc=pc_grid.reshape(nav_shape_grid + (3,)),\n",
    "    sample_tilt=70,\n",
    ")\n",
    "det_grid"
   ]
  },
  {
   "cell_type": "code",
   "execution_count": null,
   "metadata": {},
   "outputs": [],
   "source": [
    "det_grid.plot_pc(\"map\")\n",
    "det_grid.plot_pc(\"scatter\", annotate=True)"
   ]
  },
  {
   "cell_type": "markdown",
   "metadata": {},
   "source": [
    "Looking at the maps:\n",
    "* PCx increases towards the left, as expected.\n",
    "* PCy increases upwards, as expected.\n",
    "* PCz seems to increase downwards, as expected, although there are some patterns, especially the 0th, which do not follow this trend.\n",
    "\n",
    "Looking at the scatter plots:\n",
    "* We recognize the regular (5, 5) grid, although some patterns do not align as well as the others (e.g. 0th).\n",
    "* There is an inverse relation between PCy and PCz: as PCy decreases, PCz increases. This is as expected. However, there is a significant spread in each row of points (5-9, 10-14, etc.).\n",
    "\n",
    "These initial guesses seem OK, and we could perhaps fit a plane to these values already.\n",
    "But, we can get a better fit by refining the PC values using pattern matching.\n",
    "To that end, we obtain initial guesses for the orientations"
   ]
  },
  {
   "cell_type": "code",
   "execution_count": null,
   "metadata": {},
   "outputs": [],
   "source": [
    "plt.figure()\n",
    "hi_grid, *_ = indexer.index_pats(\n",
    "    patsin=patterns_grid, PC=det_grid.pc_flattened, verbose=2\n",
    ")"
   ]
  },
  {
   "cell_type": "markdown",
   "metadata": {},
   "source": [
    "Create a [CrystalMap](https://orix.readthedocs.io/en/stable/reference/generated/orix.crystal_map.CrystalMap.html#orix.crystal_map.CrystalMap) to store the indexing results in.\n",
    "We need a description of the Si phase when creating the crystal map.\n",
    "To obtain this, we load the dynamically simulated (with EMsoft) Si master pattern which we will use below for pattern matching."
   ]
  },
  {
   "cell_type": "code",
   "execution_count": null,
   "metadata": {},
   "outputs": [],
   "source": [
    "mp = kp.data.si_ebsd_master_pattern(\n",
    "    allow_download=True,\n",
    "    projection=\"lambert\",\n",
    "    energy=20,\n",
    ")\n",
    "mp"
   ]
  },
  {
   "cell_type": "markdown",
   "metadata": {},
   "source": [
    "Extract the phase and change lattice constant unit from nm to Ångström"
   ]
  },
  {
   "cell_type": "code",
   "execution_count": null,
   "metadata": {},
   "outputs": [],
   "source": [
    "phase = mp.phase\n",
    "\n",
    "lat = phase.structure.lattice\n",
    "lat.setLatPar(lat.a * 10, lat.b * 10, lat.c * 10)\n",
    "\n",
    "print(phase)\n",
    "print(phase.structure)\n",
    "print(phase.structure.lattice)"
   ]
  },
  {
   "cell_type": "markdown",
   "metadata": {},
   "source": [
    "Create coordinate arrays and the crystal map"
   ]
  },
  {
   "cell_type": "code",
   "execution_count": null,
   "metadata": {},
   "outputs": [],
   "source": [
    "xy_grid, _ = create_coordinate_arrays(\n",
    "    nav_shape_grid,\n",
    "    step_sizes=(\n",
    "        s_grid.axes_manager[\"y\"].scale,\n",
    "        s_grid.axes_manager[\"x\"].scale,\n",
    "    ),\n",
    ")\n",
    "\n",
    "hi_grid_best = hi_grid[-1]\n",
    "\n",
    "xmap_grid = CrystalMap(\n",
    "    rotations=Rotation(hi_grid_best[\"quat\"]),\n",
    "    x=xy_grid[\"x\"].ravel(),\n",
    "    y=xy_grid[\"y\"].ravel(),\n",
    "    phase_list=PhaseList(phase),\n",
    "    prop=dict(\n",
    "        pq=hi_grid_best[\"pq\"],\n",
    "        cm=hi_grid_best[\"cm\"],\n",
    "        fit=hi_grid_best[\"fit\"],\n",
    "        nmatch=hi_grid_best[\"nmatch\"],\n",
    "    ),\n",
    "    scan_unit=\"um\",\n",
    ")\n",
    "xmap_grid"
   ]
  },
  {
   "cell_type": "markdown",
   "metadata": {},
   "source": [
    "Check the average pattern fit and confidence metric"
   ]
  },
  {
   "cell_type": "code",
   "execution_count": null,
   "metadata": {},
   "outputs": [],
   "source": [
    "fig, axes = plt.subplots(ncols=2, figsize=(10, 3.5))\n",
    "for ax, to_plot, label in zip(\n",
    "    axes,\n",
    "    [\"fit\", \"cm\"],\n",
    "    [\"Pattern fit [deg]\", \"Confidence metric\"]\n",
    "):\n",
    "    im = ax.imshow(xmap_grid.get_map_data(to_plot))\n",
    "    fig.colorbar(im, ax=ax, label=label)\n",
    "    ax.axis(\"off\")\n",
    "fig.subplots_adjust(wspace=0.1)"
   ]
  },
  {
   "cell_type": "markdown",
   "metadata": {},
   "source": [
    "We see that the upper left (0th) pattern has a high pattern fit and low confidence metric, which is in line with the PC values of that pattern being an outlier in the scatter plots of (PCx, PCz) and (PCz, PCy) above.\n",
    "\n",
    "Let us refine these initial guesses of orientations and PCs using the loaded dynamically simulated master pattern."
   ]
  },
  {
   "cell_type": "markdown",
   "metadata": {},
   "source": [
    "## Refine PCs using pattern matching\n",
    "\n",
    "Let's look at the dynamical simulation (which is in the square Lambert projection, required for use in dictionary indexing and refinement in kiuchipy [and EMsoft])"
   ]
  },
  {
   "cell_type": "code",
   "execution_count": null,
   "metadata": {},
   "outputs": [],
   "source": [
    "mp.plot()"
   ]
  },
  {
   "cell_type": "markdown",
   "metadata": {},
   "source": [
    "Refine orientations and PCs using the Nelder-Mead optimization algorithm as implemented in NLopt.\n",
    "During optimization, orientations are represented as three Euler angles, and are varied within a sufficiently wide trust region of +/- 5$^{\\circ}$ of the orientation obtained from Hough indexing above.\n",
    "PCs are varied within a trust region of +/- 0.1 of the detector width (for PCx and PCz) or height (for PCy).\n",
    "Optimization of each pattern stops when the increase in normalized cross-correlation (NCC) score between iterations, obtained by comparing experimental to simulated pattern, is lower than $10^{-5}$."
   ]
  },
  {
   "cell_type": "code",
   "execution_count": null,
   "metadata": {},
   "outputs": [],
   "source": [
    "xmap_grid_ref, det_grid_ref = s_grid.refine_orientation_projection_center(\n",
    "    xmap=xmap_grid,\n",
    "    detector=det_grid,\n",
    "    master_pattern=mp,\n",
    "    energy=20,\n",
    "    signal_mask=mask,\n",
    "    method=\"LN_NELDERMEAD\",\n",
    "    trust_region=[5, 5, 5, 0.1, 0.1, 0.1],\n",
    "    rtol=1e-5,\n",
    "    chunk_kwargs=dict(chunk_shape=1),\n",
    ")"
   ]
  },
  {
   "cell_type": "markdown",
   "metadata": {},
   "source": [
    "Check the mean NCC score, mean PC and the standard deviation of the mean PC"
   ]
  },
  {
   "cell_type": "code",
   "execution_count": null,
   "metadata": {},
   "outputs": [],
   "source": [
    "print(xmap_grid_ref.scores.mean())\n",
    "print(det_grid_ref.pc_average)\n",
    "print(det_grid_ref.pc_flattened.std(0))"
   ]
  },
  {
   "cell_type": "markdown",
   "metadata": {},
   "source": [
    "Check the distribution of refined PCs"
   ]
  },
  {
   "cell_type": "code",
   "execution_count": null,
   "metadata": {},
   "outputs": [],
   "source": [
    "det_grid_ref.plot_pc(\"map\")\n",
    "det_grid_ref.plot_pc(\"scatter\", annotate=True)"
   ]
  },
  {
   "cell_type": "markdown",
   "metadata": {},
   "source": [
    "The grid is easily recognizable, but the 24th pattern PC can be seen as an outlier.\n",
    "This can either be set manually, or we can try to find outliers by robustly fitting a line to the (PCz, PCy) plot.\n",
    "Assuming the sample is perfectly tilted about the detector $X_d$, the slope of the fitted line is the estimated tilt angle."
   ]
  },
  {
   "cell_type": "code",
   "execution_count": null,
   "metadata": {},
   "outputs": [],
   "source": [
    "xtilt, is_outlier = det_grid_ref.estimate_xtilt(\n",
    "    detect_outliers=True, degrees=True, return_outliers=True\n",
    ")\n",
    "print(xtilt)"
   ]
  },
  {
   "cell_type": "markdown",
   "metadata": {},
   "source": [
    "We (hopefully) see that 24th pattern is automatically recognized as an outlier.\n",
    "If not, we can update (or create) the outlier mask manually"
   ]
  },
  {
   "cell_type": "code",
   "execution_count": null,
   "metadata": {},
   "outputs": [],
   "source": [
    "if not is_outlier.any():\n",
    "    is_outlier[24] = True"
   ]
  },
  {
   "cell_type": "markdown",
   "metadata": {},
   "source": [
    "We can fit a plane to the remaining PCs."
   ]
  },
  {
   "cell_type": "markdown",
   "metadata": {},
   "source": [
    "## Fit a plane to the refined PCs\n",
    "\n",
    "To fit a plane to the PCs, we must pass an array of all indices in the full map and the indices of the patterns which the PCs were estimated from.\n",
    "In the case of the grid patterns we've used here, the map indices were returned from the `EBSD.extract_grid()`."
   ]
  },
  {
   "cell_type": "code",
   "execution_count": null,
   "metadata": {},
   "outputs": [],
   "source": [
    "nav_shape = s.axes_manager.navigation_shape[::-1]\n",
    "map_indices = np.indices(nav_shape)\n",
    "\n",
    "is_outlier = is_outlier.reshape(nav_shape_grid)"
   ]
  },
  {
   "cell_type": "markdown",
   "metadata": {},
   "source": [
    "Using [EBSDDetector.fit_pc()](../reference/generated/kikuchipy.detectors.EBSDDetector.fit_pc.rst) we will fit a plane to the PCs using both an affine transformation and a projective transformation.\n",
    "The fit method automatically plots the three scatter plots above and a forth 3D plot, with the experimental PC values shown as black circles and a subset of the PCs corresponding to the experimental ones as larger gray circles."
   ]
  },
  {
   "cell_type": "code",
   "execution_count": null,
   "metadata": {},
   "outputs": [],
   "source": [
    "det_ref_aff = det_grid_ref.fit_pc(\n",
    "    idx,\n",
    "    map_indices=map_indices,\n",
    "    transformation=\"affine\",\n",
    "    is_outlier=is_outlier,\n",
    ")\n",
    "print(det_ref_aff)\n",
    "\n",
    "# Sample tilt\n",
    "print(det_ref_aff.sample_tilt)\n",
    "\n",
    "# Max. deviation between experimental and fitted PC\n",
    "pc_diff_aff = det_grid_ref.pc - det_ref_aff.pc[tuple(idx)]\n",
    "print(abs(pc_diff_aff.reshape(-1, 3)).mean(axis=0))"
   ]
  },
  {
   "cell_type": "code",
   "execution_count": null,
   "metadata": {
    "nbsphinx-thumbnail": {
     "tooltip": "Get a plane of projection centers (PCs) by fitting a plane to selected PCs"
    },
    "tags": [
     "nbsphinx-thumbnail"
    ]
   },
   "outputs": [],
   "source": [
    "det_ref_proj = det_grid_ref.fit_pc(\n",
    "    idx,\n",
    "    map_indices=map_indices,\n",
    "    transformation=\"projective\",\n",
    "    is_outlier=is_outlier,\n",
    ")\n",
    "print(det_ref_proj)\n",
    "\n",
    "# Sample tilt\n",
    "print(det_ref_proj.sample_tilt)\n",
    "\n",
    "# Max. deviation between experimental and fitted PC\n",
    "pc_diff_proj = det_grid_ref.pc - det_ref_proj.pc[tuple(idx)]\n",
    "print(abs(pc_diff_proj.reshape(-1, 3)).mean(axis=0))"
   ]
  },
  {
   "cell_type": "markdown",
   "metadata": {},
   "source": [
    "We see that the projective plane better fits the experimental PCs than the affine plane.\n",
    "But all-in-all, both planes with very well."
   ]
  },
  {
   "cell_type": "markdown",
   "metadata": {},
   "source": [
    "## Validate fitted PCs\n",
    "\n",
    "Finally, we will refine the (already refined) orientations of the grid patterns using the above fitted PCs, and inspect geometrical simulations on top of all patterns."
   ]
  },
  {
   "cell_type": "code",
   "execution_count": null,
   "metadata": {},
   "outputs": [],
   "source": [
    "det_ref_proj_grid = det_ref_proj.deepcopy()\n",
    "det_ref_proj_grid.pc = det_ref_proj_grid.pc[tuple(idx)]"
   ]
  },
  {
   "cell_type": "code",
   "execution_count": null,
   "metadata": {},
   "outputs": [],
   "source": [
    "xmap_grid_refori = s_grid.refine_orientation(\n",
    "    xmap=xmap_grid_ref,\n",
    "    detector=det_ref_proj_grid,\n",
    "    master_pattern=mp,\n",
    "    energy=20,\n",
    "    method=\"LN_NELDERMEAD\",\n",
    "    trust_region=[5, 5, 5],\n",
    "    rtol=1e-5,\n",
    "    signal_mask=mask,\n",
    "    chunk_kwargs=dict(chunk_shape=1),\n",
    ")\n",
    "\n",
    "print(xmap_grid_refori.scores.mean())"
   ]
  },
  {
   "cell_type": "markdown",
   "metadata": {},
   "source": [
    "To plot geometrical simulations on top of our experimental patterns, we create a [KikuchiPatternSimulator](../reference/generated/kikuchipy.simulations.KikuchiPatternSimulator.rst) using the Si [Phase](https://orix.readthedocs.io/en/stable/reference/generated/orix.crystal_map.Phase.html) from the master pattern above.\n",
    "See the [geometrical EBSD simulations tutorial](geometrical_ebsd_simulations.ipynb) for more details."
   ]
  },
  {
   "cell_type": "code",
   "execution_count": null,
   "metadata": {},
   "outputs": [],
   "source": [
    "rlv = ReciprocalLatticeVector.from_min_dspacing(phase)\n",
    "\n",
    "rlv.sanitise_phase()  # Expand unit cell\n",
    "\n",
    "rlv.calculate_structure_factor()\n",
    "\n",
    "structure_factor = abs(rlv.structure_factor)\n",
    "rlv = rlv[structure_factor > 0.4 * structure_factor.max()]\n",
    "\n",
    "rlv.print_table()"
   ]
  },
  {
   "cell_type": "code",
   "execution_count": null,
   "metadata": {},
   "outputs": [],
   "source": [
    "simulator = kp.simulations.KikuchiPatternSimulator(rlv)"
   ]
  },
  {
   "cell_type": "markdown",
   "metadata": {},
   "source": [
    "Get one simulation per pattern"
   ]
  },
  {
   "cell_type": "code",
   "execution_count": null,
   "metadata": {},
   "outputs": [],
   "source": [
    "sim = simulator.on_detector(\n",
    "    det_ref_proj_grid,\n",
    "    xmap_grid_refori.rotations.reshape(*xmap_grid_refori.shape),\n",
    ")"
   ]
  },
  {
   "cell_type": "markdown",
   "metadata": {},
   "source": [
    "Plot the geometrical simulations on top of the patterns"
   ]
  },
  {
   "cell_type": "code",
   "execution_count": null,
   "metadata": {},
   "outputs": [],
   "source": [
    "fig, axes = plt.subplots(*grid_shape, figsize=(15, 15))\n",
    "for i in np.ndindex(grid_shape):\n",
    "    axes[i].imshow((s_grid.data[i] * ~mask), cmap=\"gray\")\n",
    "    axes[i].axis(\"off\")\n",
    "\n",
    "    lines = sim.as_collections(i)[0]\n",
    "    axes[i].add_collection(lines)\n",
    "\n",
    "    idx1d = np.ravel_multi_index(i, grid_shape)\n",
    "    axes[i].text(5, 10, idx1d, c=\"w\", va=\"top\", ha=\"left\", fontsize=20)\n",
    "\n",
    "fig.subplots_adjust(wspace=0.01, hspace=0.01)"
   ]
  },
  {
   "cell_type": "markdown",
   "metadata": {},
   "source": [
    "As expected, if we look at the first pattern (0), we see that the patterns shift upwards and to the left as we move down (follow the upper-most near-horizontal Kikuchi line) and to the right (follow the lower left line) in the grid."
   ]
  }
 ],
 "metadata": {
  "kernelspec": {
   "display_name": "Python 3 (ipykernel)",
   "language": "python",
   "name": "python3"
  },
  "language_info": {
   "codemirror_mode": {
    "name": "ipython",
    "version": 3
   },
   "file_extension": ".py",
   "mimetype": "text/x-python",
   "name": "python",
   "nbconvert_exporter": "python",
   "pygments_lexer": "ipython3",
   "version": "3.10.8"
  }
 },
 "nbformat": 4,
 "nbformat_minor": 4
}
