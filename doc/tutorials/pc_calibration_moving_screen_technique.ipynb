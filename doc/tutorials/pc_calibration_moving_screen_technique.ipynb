{
 "cells": [
  {
   "cell_type": "markdown",
   "id": "81b96c07-56ce-47b8-8a63-bbbb27263f5c",
   "metadata": {
    "nbsphinx": "hidden"
   },
   "source": [
    "This notebook is part of the `kikuchipy` documentation https://kikuchipy.org.\n",
    "Links to the documentation won't work from the notebook."
   ]
  },
  {
   "cell_type": "markdown",
   "id": "3f42fed2-753b-431b-9469-b3351176f757",
   "metadata": {},
   "source": [
    "# PC calibration: \"moving-screen\" technique\n",
    "\n",
    "The gnomonic projection (pattern) center (PC) of an EBSD detector can be\n",
    "estimated by the \"moving-screen\" technique\n",
    "<cite data-cite=\"hjelen1991electron\">Hjelen et al.</cite>, which we will test in\n",
    "this tutorial.\n",
    "\n",
    "The technique relies on the assumption that the beam normal, shown in the\n",
    "[top figure (d) in the reference frames tutorial](reference_frames.ipynb#sample-detector-geometry),\n",
    "is normal to the detector screen as well as the incoming electron beam, and will\n",
    "therefore intersect the screen at a position independent of the detector\n",
    "distance (DD). To find this position, we need two EBSD patterns acquired with a\n",
    "stationary beam but with a known difference $\\Delta z$ in DD, say 5 mm.\n",
    "\n",
    "First, the goal is to find the pattern position which does not shift between the\n",
    "two camera positions, ($PC_x$, $PC_y$). This point can be estimated in fractions\n",
    "of screen width and height, respectively, by selecting the same pattern features\n",
    "in both patterns. The two points of each pattern feature can then be used to\n",
    "form a straight line, and two or more such lines should intersect at ($PC_x$,\n",
    "$PC_y$).\n",
    "\n",
    "Second, the DD ($PC_z$) can be estimated from the same points. After finding\n",
    "the distances $L_{in}$ and $L_{out}$ between two points (features) in both\n",
    "patterns (in = operating position, out = 5 mm from operating position), the DD\n",
    "can be found from the relation\n",
    "\n",
    "$$\n",
    "\\mathrm{DD} = \\frac{\\Delta z}{L_{out}/L_{in} - 1},\n",
    "$$\n",
    "\n",
    "where DD is given in the same unit as the known camera distance difference. If\n",
    "also the detector pixel size $\\delta$ is known (e.g. 46 mm / 508 px), $PC_z$ can\n",
    "be given in the fraction of the detector screen height\n",
    "\n",
    "$$\n",
    "PC_z = \\frac{\\mathrm{DD}}{N_r \\delta b},\n",
    "$$\n",
    "\n",
    "where $N_r$ is the number of detector rows and $b$ is the binning factor.\n",
    "\n",
    "Let's first import necessary libraries"
   ]
  },
  {
   "cell_type": "code",
   "execution_count": null,
   "id": "4d17ba0c-17d7-42bc-9792-bef0aac7e8d6",
   "metadata": {},
   "outputs": [],
   "source": [
    "# Exchange inline for notebook or qt5 (from pyqt) for interactive plotting\n",
    "%matplotlib inline\n",
    "\n",
    "from diffsims.crystallography import ReciprocalLatticeVector\n",
    "from orix.crystal_map import Phase\n",
    "from orix.quaternion import Rotation\n",
    "import matplotlib.pyplot as plt\n",
    "import numpy as np\n",
    "import kikuchipy as kp"
   ]
  },
  {
   "cell_type": "markdown",
   "id": "f01ebf69-77e9-40bf-a219-e937a4516c08",
   "metadata": {},
   "source": [
    "We will find an estimate of the PC from two single crystal Silicon EBSD\n",
    "patterns, which are included in the\n",
    "[kikuchipy.data](../reference/generated/kikuchipy.data.rst) module"
   ]
  },
  {
   "cell_type": "code",
   "execution_count": null,
   "id": "35f5fdb8-360d-47d2-851a-d1ad0d49c9f5",
   "metadata": {},
   "outputs": [],
   "source": [
    "s_in = kp.data.silicon_ebsd_moving_screen_in(allow_download=True)\n",
    "s_in.remove_static_background()\n",
    "s_in.remove_dynamic_background()\n",
    "\n",
    "s_out5mm = kp.data.silicon_ebsd_moving_screen_out5mm(allow_download=True)\n",
    "s_out5mm.remove_static_background()\n",
    "s_out5mm.remove_dynamic_background()"
   ]
  },
  {
   "cell_type": "markdown",
   "id": "2ad933d0-31d8-44e9-8591-60eca7867039",
   "metadata": {},
   "source": [
    "As a first approximation, we can find the detector pixel positions of the same\n",
    "features in both patterns by plotting them and noting the upper right\n",
    "coordianates provided by Matplotlib when plotting with an interactive backend\n",
    "(e.g. qt5 or notebook) and hovering over image pixels"
   ]
  },
  {
   "cell_type": "code",
   "execution_count": null,
   "id": "b6b7634b-2295-49f1-bbb7-ab567486209b",
   "metadata": {},
   "outputs": [],
   "source": [
    "fig, ax = plt.subplots(ncols=2, sharex=True, sharey=True, figsize=(20, 10))\n",
    "ax[0].imshow(s_in.data, cmap=\"gray\")\n",
    "_ = ax[1].imshow(s_out5mm.data, cmap=\"gray\")"
   ]
  },
  {
   "cell_type": "markdown",
   "id": "32839589-ac31-4965-be22-fc7b3a8e94fe",
   "metadata": {},
   "source": [
    "For this example we choose the positions of three zone axes. The PC calibration\n",
    "is performed by creating an instance of the\n",
    "[PCCalibrationMovingScreen](../reference/generated/kikuchipy.detectors.PCCalibrationMovingScreen.rst)\n",
    "class"
   ]
  },
  {
   "cell_type": "code",
   "execution_count": null,
   "id": "24657337-00fe-4e78-bf33-820b699b636a",
   "metadata": {},
   "outputs": [],
   "source": [
    "cal = kp.detectors.PCCalibrationMovingScreen(\n",
    "    pattern_in=s_in.data,\n",
    "    pattern_out=s_out5mm.data,\n",
    "    points_in=[(109, 131), (390, 139), (246, 232)],\n",
    "    points_out=[(77, 146), (424, 156), (246, 269)],\n",
    "    delta_z=5,\n",
    "    px_size=None,  # Default\n",
    "    convention=\"tsl\",  # Default\n",
    ")\n",
    "cal"
   ]
  },
  {
   "cell_type": "markdown",
   "id": "e219623f-366c-49b5-97da-262cf10e4c14",
   "metadata": {},
   "source": [
    "We see that ($PC_x$, $PC_y$) = (0.5123, 0.8606), while DD = 21.7 mm. To get\n",
    "$PC_z$ in fractions of detector height, we have to provide the detector pixel\n",
    "size $\\delta$ upon initialization, or set it directly and recalculate the PC"
   ]
  },
  {
   "cell_type": "code",
   "execution_count": null,
   "id": "65cefee2-3cda-447c-bc01-52f490464136",
   "metadata": {},
   "outputs": [],
   "source": [
    "cal.px_size = 46 / 508  # mm/px\n",
    "cal"
   ]
  },
  {
   "cell_type": "markdown",
   "id": "1185a0bd-a281-45e4-8780-fee70a0d0100",
   "metadata": {},
   "source": [
    "We can visualize the estimation by using the (opinionated) convenience method\n",
    "[PCCalibrationMovingScreen.plot()](../reference/generated/kikuchipy.detectors.PCCalibrationMovingScreen.plot.rst)"
   ]
  },
  {
   "cell_type": "code",
   "execution_count": null,
   "id": "805760aa-350f-4dbe-8d26-421c499d060c",
   "metadata": {},
   "outputs": [],
   "source": [
    "cal.plot()"
   ]
  },
  {
   "cell_type": "markdown",
   "id": "b98843b2-33d6-47a2-9780-856149d6b229",
   "metadata": {},
   "source": [
    "As expected, the three lines in the right figure meet at a more or less the same\n",
    "position. We can replot the three images and zoom in on the PC to see how close\n",
    "they are to each other. We will use two standard deviations of all $PC_x$\n",
    "estimates as the axis limits (scaled with pattern shape)"
   ]
  },
  {
   "cell_type": "code",
   "execution_count": null,
   "id": "9bd67169-35af-4df5-bad4-632f9c855836",
   "metadata": {},
   "outputs": [],
   "source": [
    "# PCy defined from top to bottom, otherwise \"tsl\", defined from bottom to top\n",
    "cal.convention = \"bruker\"\n",
    "pcx, pcy, _ = cal.pc\n",
    "two_std = 2 * np.std(cal.pcx_all, axis=0)\n",
    "\n",
    "fig, ax = cal.plot(return_fig_ax=True)\n",
    "ax[2].set_xlim([cal.ncols * (pcx - two_std), cal.ncols * (pcx + two_std)])\n",
    "_ = ax[2].set_ylim([cal.nrows * (pcy - two_std), cal.nrows * (pcy + two_std)])"
   ]
  },
  {
   "cell_type": "markdown",
   "id": "fad9dd46-5080-47a9-a763-8dabb267b498",
   "metadata": {},
   "source": [
    "Finally, we can use this PC estimate along with the orientation of the Si\n",
    "crystal, as determined by Hough indexing with a commercial software, to see how\n",
    "good the estimate is, by performing a\n",
    "[geometrical EBSD simulation](geometrical_ebsd_simulations.rst)\n",
    "of positions of Kikuchi band centres and zone axes from the five $\\{hkl\\}$\n",
    "families $\\{111\\}$, $\\{200\\}$, $\\{220\\}$, $\\{222\\}$, and $\\{311\\}$"
   ]
  },
  {
   "cell_type": "code",
   "execution_count": null,
   "id": "17b152c6-4ade-464d-bc53-a20433546139",
   "metadata": {
    "tags": []
   },
   "outputs": [],
   "source": [
    "phase = Phase(space_group=227)\n",
    "\n",
    "# Specify which reflectors to use in simulation\n",
    "ref = ReciprocalLatticeVector(\n",
    "    phase=phase, hkl=[[1, 1, 1], [2, 0, 0], [2, 2, 0], [2, 2, 2], [3, 1, 1]]\n",
    ")\n",
    "ref = ref.symmetrise()  # Symmetrise to get all symmetrically equivalent planes\n",
    "\n",
    "# Create simulator\n",
    "simulator = kp.simulations.KikuchiPatternSimulator(ref)\n",
    "\n",
    "# Specify detector and crystal orientation to simulate a pattern for\n",
    "detector = kp.detectors.EBSDDetector(\n",
    "    shape=cal.shape, pc=cal.pc, sample_tilt=70, convention=cal.convention\n",
    ")\n",
    "r = Rotation.from_euler(np.deg2rad([133.3, 88.7, 177.8]))\n",
    "\n",
    "sim = simulator.on_detector(detector, r)"
   ]
  },
  {
   "cell_type": "code",
   "execution_count": null,
   "id": "f608a624-d305-438c-8986-978f7e31bbc7",
   "metadata": {
    "nbsphinx-thumbnail": {
     "tooltip": "Rough estimate of the projection center (PC)"
    },
    "tags": [
     "nbsphinx-thumbnail"
    ]
   },
   "outputs": [],
   "source": [
    "# del s_in.metadata.Markers  # Uncomment this if we want to re-add markers\n",
    "s_in.add_marker(marker=sim.as_markers(), plot_marker=False, permanent=True)\n",
    "s_in.plot(navigator=None, colorbar=False, axes_off=True, title=\"\")"
   ]
  },
  {
   "cell_type": "markdown",
   "id": "5f49eae5-f806-4888-a264-78f11e33f3d2",
   "metadata": {},
   "source": [
    "The PC is not perfect, but the estimate might be good enough for a further PC\n",
    "and/or orientation refinement."
   ]
  }
 ],
 "metadata": {
  "kernelspec": {
   "display_name": "Python 3 (ipykernel)",
   "language": "python",
   "name": "python3"
  },
  "language_info": {
   "codemirror_mode": {
    "name": "ipython",
    "version": 3
   },
   "file_extension": ".py",
   "mimetype": "text/x-python",
   "name": "python",
   "nbconvert_exporter": "python",
   "pygments_lexer": "ipython3",
   "version": "3.9.13"
  }
 },
 "nbformat": 4,
 "nbformat_minor": 5
}
