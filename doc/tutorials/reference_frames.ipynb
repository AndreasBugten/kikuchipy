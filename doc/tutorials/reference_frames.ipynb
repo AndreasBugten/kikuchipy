{
 "cells": [
  {
   "cell_type": "markdown",
   "metadata": {
    "nbsphinx": "hidden",
    "pycharm": {
     "name": "#%% md\n"
    }
   },
   "source": [
    "This notebook is part of the `kikuchipy` documentation https://kikuchipy.org.\n",
    "Links to the documentation won't work from the notebook."
   ]
  },
  {
   "cell_type": "markdown",
   "metadata": {
    "pycharm": {
     "name": "#%% md\n"
    }
   },
   "source": [
    "# Reference frames\n",
    "\n",
    "## Sample-detector geometry\n",
    "\n",
    "The figure below shows the [sample reference frame](#detector-sample-geometry)\n",
    "and the [detector reference frame](#detector-coordinates) used in kikuchipy, all\n",
    "of which are right handed. In short, the sample reference frame ($X_s$, $Y_s$,\n",
    "$Z_s$) is the one used by EDAX TSL, (RD, TD, ND), while the pattern center ($PC_x$,\n",
    "$PC_y$, $PC_z$) is the one used by Bruker Nano, ($PC_x$, $PC_y$, $DD$)."
   ]
  },
  {
   "cell_type": "markdown",
   "metadata": {
    "pycharm": {
     "name": "#%% md\n"
    }
   },
   "source": [
    "<img id=\"detector-sample-geometry\" src=\"../_static/image/reference_frames/sample_detector_geometry.png\">"
   ]
  },
  {
   "cell_type": "markdown",
   "metadata": {
    "pycharm": {
     "name": "#%% md\n"
    }
   },
   "source": [
    "In **a**, the electron beam interacts with the sample in the source point, and\n",
    "the shortest distance from this point to the detector is called the\n",
    "projection/pattern center (PC). A part of the Kikuchi sphere resulting from the\n",
    "beam-sample interaction is projected onto the flat detector in the gnomonic\n",
    "projection, the EBSD pattern (EBSP). A gnomonic coordinate system $CS_g$, ($X_g$,\n",
    "$Y_g$, $Z_g$) with (0, 0, 0) in the PC is defined for the detector plane. We\n",
    "also define a detector coordinate system $CS_d$, ($X_d$, $Y_d$, $Z_d$), for the\n",
    "detector plane, with (0, 0, 0) in the upper left corner. The projection center\n",
    "coordinates ($PC_x$, $PC_y$, $PC_z$) are defined in this detector coordinate\n",
    "system:\n",
    "- $PC_x$ is measured from the left border of the detector in fractions of\n",
    "  detector width.\n",
    "- $PC_y$ is measured from the top border of the detector in fractions of\n",
    "  detector height.\n",
    "- $PC_z$ is the distance from the detector scintillator to the sample divided by\n",
    "  pattern height.\n",
    "\n",
    "Orientations are defined in the Bunge convention with respect to the sample\n",
    "coordinate system $CS_s$, ($X_s$, $Y_s$, $Z_s$). The detector and sample viewed along\n",
    "the microscope $X$ axis are shown in **b**, with the three coordinate systems\n",
    "and the PC also shown. The scanned map is shown in **c**. Note the orientation\n",
    "of $CS_s$ and the sample \"Top\": the map is scanned from the bottom of the sample\n",
    "and upwards. Three tilt angles are defined: the sample tilt $\\sigma$ shown in\n",
    "**a** and **b**; the detector tilt $\\theta$ shown in **b**; the azimuthal angle\n",
    "$\\omega$ which is defined as the sample tilt angle around the $X_s$ axis, shown\n",
    "in a top view of the detector and sample along the microscope $Z$ axis in **d**."
   ]
  },
  {
   "cell_type": "markdown",
   "metadata": {
    "pycharm": {
     "name": "#%% md\n"
    }
   },
   "source": [
    "<img id=\"detector-coordinates\" src=\"../_static/image/reference_frames/gnomonic_detector_coordinates.png\">"
   ]
  },
  {
   "cell_type": "markdown",
   "metadata": {},
   "source": [
    "The above figure shows the EBSP in the\n",
    "[sample reference frame figure](#sample-detector-geometry) **a** as viewed from\n",
    "behind the screen towards the sample in (left) the gnomonic coordinate system\n",
    "with its origin (0, 0) in the PC, and in (right) the detector coodinate system\n",
    "with (0, 0) in the upper left pixel. The circles indicate the angular distance\n",
    "from the PC in steps of $10^{\\circ}$."
   ]
  },
  {
   "cell_type": "markdown",
   "metadata": {
    "pycharm": {
     "name": "#%% md\n"
    }
   },
   "source": [
    "## The EBSD detector\n",
    "\n",
    "All relevant parameters for the sample-detector geometry are stored in an\n",
    "[kikuchipy.detectors.EBSDDetector](../reference/generated/kikuchipy.detectors.EBSDDetector.rst)\n",
    "instance. Let's first import necessary libraries and a small Nickel EBSD test\n",
    "data set"
   ]
  },
  {
   "cell_type": "code",
   "execution_count": null,
   "metadata": {
    "pycharm": {
     "name": "#%%\n"
    }
   },
   "outputs": [],
   "source": [
    "# Exchange inline for notebook or qt5 (from pyqt) for interactive plotting\n",
    "%matplotlib inline\n",
    "\n",
    "import matplotlib.pyplot as plt\n",
    "import numpy as np\n",
    "import kikuchipy as kp\n",
    "\n",
    "\n",
    "s = kp.data.nickel_ebsd_small()  # Use kp.load(\"data.h5\") to load your own data\n",
    "s"
   ]
  },
  {
   "cell_type": "markdown",
   "metadata": {
    "pycharm": {
     "name": "#%% md\n"
    }
   },
   "source": [
    "Then we can define a detector with the same parameters as the one used to\n",
    "acquire the small Nickel data set"
   ]
  },
  {
   "cell_type": "code",
   "execution_count": null,
   "metadata": {
    "pycharm": {
     "name": "#%%\n"
    }
   },
   "outputs": [],
   "source": [
    "detector = kp.detectors.EBSDDetector(\n",
    "    shape=s.axes_manager.signal_shape[::-1],\n",
    "    pc=[0.421, 0.779, 0.505],\n",
    "    convention=\"tsl\",\n",
    "    px_size=70,  # microns\n",
    "    binning=8,\n",
    "    tilt=0,\n",
    "    sample_tilt=70,\n",
    ")\n",
    "detector"
   ]
  },
  {
   "cell_type": "code",
   "execution_count": null,
   "metadata": {
    "pycharm": {
     "name": "#%%\n"
    }
   },
   "outputs": [],
   "source": [
    "detector.pc_tsl()"
   ]
  },
  {
   "cell_type": "markdown",
   "metadata": {
    "pycharm": {
     "name": "#%% md\n"
    }
   },
   "source": [
    "Above, the PC was passed in the EDAX TSL convention. Passing the PC in the\n",
    "Bruker, Oxford, or EMsoft convention is also supported. The definitions of the\n",
    "conventions are given in the\n",
    "[EBSDDetector](../reference/generated/kikuchipy.detectors.EBSDDetector.rst) API\n",
    "reference, together with the conversion from PC coordinates in the EDAX TSL,\n",
    "Oxford, or EMsoft conventions to PC coordinates in the Bruker convention.\n",
    "\n",
    "The PC coordinates in the EDAX TSL, Oxford, or EMsoft conventions can be\n",
    "retreived via\n",
    "[EBSDDetector.pc_tsl()](../reference/generated/kikuchipy.detectors.EBSDDetector.pc_tsl.rst),\n",
    "[EBSDDetector.pc_oxford()](../reference/generated/kikuchipy.detectors.EBSDDetector.pc_oxford.rst),\n",
    "and [EBSDDetector.pc_emsoft()](../reference/generated/kikuchipy.detectors.EBSDDetector.pc_emsoft.rst),\n",
    "respectively. The latter requires the unbinned detector pixel size in microns\n",
    "and the detector binning to be given upon initialization."
   ]
  },
  {
   "cell_type": "code",
   "execution_count": null,
   "metadata": {
    "pycharm": {
     "name": "#%%\n"
    }
   },
   "outputs": [],
   "source": [
    "detector.pc_emsoft()"
   ]
  },
  {
   "cell_type": "markdown",
   "metadata": {
    "pycharm": {
     "name": "#%% md\n"
    }
   },
   "source": [
    "The detector can be plotted to show whether the average PC is placed as\n",
    "expected using\n",
    "[EBSDDetector.plot()](../reference/generated/kikuchipy.detectors.EBSDDetector.plot.rst)\n",
    "(see its docstring for a complete explanation of its parameters)"
   ]
  },
  {
   "cell_type": "code",
   "execution_count": null,
   "metadata": {
    "nbsphinx-thumbnail": {
     "tooltip": "Definitions of the sample and projection/pattern center reference frames"
    },
    "pycharm": {
     "name": "#%%\n"
    },
    "tags": [
     "nbsphinx-thumbnail"
    ]
   },
   "outputs": [],
   "source": [
    "detector.plot(pattern=s.inav[0, 0].data)"
   ]
  },
  {
   "cell_type": "markdown",
   "metadata": {
    "pycharm": {
     "name": "#%% md\n"
    }
   },
   "source": [
    "This will produce a figure similar to the right panel in the\n",
    "[detector coordinates figure](#detector-coordinates) above, without the arrows\n",
    "and colored labels.\n",
    "\n",
    "Multiple PCs with a 1D or 2D navigation shape can be passed to the `pc`\n",
    "parameter upon initialization, or can be set directly. This gives the detector\n",
    "a navigation shape (not to be confused with the detector shape) and a navigation\n",
    "dimension (maximum of two)"
   ]
  },
  {
   "cell_type": "code",
   "execution_count": null,
   "metadata": {
    "pycharm": {
     "name": "#%%\n"
    }
   },
   "outputs": [],
   "source": [
    "detector.pc = np.ones([3, 4, 3]) * [0.421, 0.779, 0.505]\n",
    "detector.navigation_shape"
   ]
  },
  {
   "cell_type": "code",
   "execution_count": null,
   "metadata": {
    "pycharm": {
     "name": "#%%\n"
    }
   },
   "outputs": [],
   "source": [
    "detector.navigation_dimension"
   ]
  },
  {
   "cell_type": "code",
   "execution_count": null,
   "metadata": {
    "pycharm": {
     "name": "#%%\n"
    }
   },
   "outputs": [],
   "source": [
    "detector.pc = detector.pc[0, 0]\n",
    "detector.navigation_shape"
   ]
  },
  {
   "cell_type": "markdown",
   "metadata": {
    "pycharm": {
     "name": "#%% md\n"
    }
   },
   "source": [
    "<div class=\"alert alert-info\">\n",
    "\n",
    "Note\n",
    "\n",
    "The offset and scale of HyperSpy’s `axes_manager` is fixed for a signal,\n",
    "meaning that we cannot let the PC vary with scan position if we want to\n",
    "calibrate the EBSD detector via the `axes_manager`. The need for a varying\n",
    "PC was the main motivation behind the `EBSDDetector` class.\n",
    "    \n",
    "</div>"
   ]
  },
  {
   "cell_type": "markdown",
   "metadata": {
    "pycharm": {
     "name": "#%% md\n"
    }
   },
   "source": [
    "The left panel in the [detector coordinates figure](#detector-coordinates)\n",
    "above shows the detector plotted in the gnomonic projection using\n",
    "[EBSDDetector.plot()](../reference/generated/kikuchipy.detectors.EBSDDetector.plot.rst).\n",
    "The 2D gnomonic coordinates ($x_g, y_g$) in $CS_g$ are defined in $CS_d$ are\n",
    "\n",
    "$$\n",
    "x_g = \\frac{x_d}{z_d}, \\qquad y_g = \\frac{y_d}{z_d}.\n",
    "$$\n",
    "\n",
    "The detector bounds and pixel scale in this projection, per navigation point,\n",
    "are stored with the detector"
   ]
  },
  {
   "cell_type": "code",
   "execution_count": null,
   "metadata": {
    "pycharm": {
     "name": "#%%\n"
    }
   },
   "outputs": [],
   "source": [
    "detector.bounds"
   ]
  },
  {
   "cell_type": "code",
   "execution_count": null,
   "metadata": {
    "pycharm": {
     "name": "#%%\n"
    }
   },
   "outputs": [],
   "source": [
    "detector.gnomonic_bounds"
   ]
  },
  {
   "cell_type": "code",
   "execution_count": null,
   "metadata": {
    "pycharm": {
     "name": "#%%\n"
    }
   },
   "outputs": [],
   "source": [
    "detector.x_range"
   ]
  },
  {
   "cell_type": "code",
   "execution_count": null,
   "metadata": {
    "pycharm": {
     "name": "#%%\n"
    }
   },
   "outputs": [],
   "source": [
    "detector.r_max  # Largest radial distance to PC"
   ]
  },
  {
   "cell_type": "markdown",
   "metadata": {},
   "source": [
    "## Other software's reference frames\n",
    "\n",
    "Other software use other reference frames. To aid in the conversion of a set of\n",
    "observations, typically orientations, between softwares, the reference frames\n",
    "used in other softwares are also shown here, represented to the best of the\n",
    "contributors understanding.\n",
    "\n",
    "<div class=\"alert alert-warning\">\n",
    "\n",
    "Warning\n",
    "\n",
    "Reference frames of other software given here are based on instruction manuals\n",
    "from the internet. Use with care, and double check whenever possible.\n",
    "    \n",
    "</div>"
   ]
  },
  {
   "cell_type": "markdown",
   "metadata": {},
   "source": [
    "### EMsoft"
   ]
  },
  {
   "cell_type": "markdown",
   "metadata": {},
   "source": [
    "<img id=\"sample-detector-geometry-emsoft\" src=\"../_static/image/reference_frames/sample_detector_geometry_emsoft.png\">"
   ]
  },
  {
   "cell_type": "markdown",
   "metadata": {},
   "source": [
    "### Bruker"
   ]
  },
  {
   "cell_type": "markdown",
   "metadata": {},
   "source": [
    "<img id=\"sample-detector-geometry-bruker\" src=\"../_static/image/reference_frames/sample_detector_geometry_bruker.png\">"
   ]
  },
  {
   "cell_type": "markdown",
   "metadata": {},
   "source": [
    "### EDAX TSL"
   ]
  },
  {
   "cell_type": "markdown",
   "metadata": {},
   "source": [
    "<img id=\"sample-detector-geometry-edax\" src=\"../_static/image/reference_frames/sample_detector_geometry_edax.png\">"
   ]
  },
  {
   "cell_type": "markdown",
   "metadata": {},
   "source": [
    "### Oxford Instruments"
   ]
  },
  {
   "cell_type": "markdown",
   "metadata": {},
   "source": [
    "<img id=\"sample-detector-geometry-oxford\" src=\"../_static/image/reference_frames/sample_detector_geometry_oxford.png\">"
   ]
  }
 ],
 "metadata": {
  "kernelspec": {
   "display_name": "Python 3 (ipykernel)",
   "language": "python",
   "name": "python3"
  },
  "language_info": {
   "codemirror_mode": {
    "name": "ipython",
    "version": 3
   },
   "file_extension": ".py",
   "mimetype": "text/x-python",
   "name": "python",
   "nbconvert_exporter": "python",
   "pygments_lexer": "ipython3",
   "version": "3.9.13"
  }
 },
 "nbformat": 4,
 "nbformat_minor": 4
}
