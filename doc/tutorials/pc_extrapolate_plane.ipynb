{
 "cells": [
  {
   "cell_type": "markdown",
   "metadata": {
    "nbsphinx": "hidden"
   },
   "source": [
    "This notebook is part of the `kikuchipy` documentation https://kikuchipy.org.\n",
    "Links to the documentation won't work from the notebook."
   ]
  },
  {
   "cell_type": "markdown",
   "metadata": {},
   "source": [
    "# Extrapolate projection centers from a mean\n",
    "\n",
    "In this tutorial, we will extrapolate a plane of projection centers (PCs) from a mean PC, as determined from patterns spread out across the sample region of interest.\n",
    "This is an alternative to *fitting* a plane to PCs, as done in the tutorial [Fit a plane to selected projection centers](pc_fit_plane.ipynb).\n",
    "As a verification of the extrapolated PCs, we will compare them to the PCs obtained from fitting a plane to the PCs as is done in that tutorial.\n",
    "\n",
    "We'll start by importing the necessary libraries"
   ]
  },
  {
   "cell_type": "code",
   "execution_count": null,
   "metadata": {},
   "outputs": [],
   "source": [
    "%matplotlib inline\n",
    "\n",
    "from diffsims.crystallography import ReciprocalLatticeVector\n",
    "import hyperspy.api as hs\n",
    "import kikuchipy as kp\n",
    "import matplotlib.pyplot as plt\n",
    "import numpy as np\n",
    "from orix.crystal_map import CrystalMap, PhaseList\n",
    "from orix.quaternion import Rotation\n",
    "from pyebsdindex import ebsd_index, pcopt\n",
    "\n",
    "\n",
    "plt.rcParams.update({\"font.size\": 12})"
   ]
  },
  {
   "cell_type": "markdown",
   "metadata": {},
   "source": [
    "## Load and inspect data\n",
    "\n",
    "We will use nine calibration patterns from recrystallized nickel.\n",
    "The patterns have the full (480, 480) px$^2$ resolution of the NORDIF UF-1100 detector they are acquired on.\n",
    "These patterns are always acquired from spread out sample positions across the region of interest (ROI) in order to calibrate the PCs prior to indexing the full dataset.\n",
    "\n",
    "Read the calibration patterns"
   ]
  },
  {
   "cell_type": "code",
   "execution_count": null,
   "metadata": {},
   "outputs": [],
   "source": [
    "s_cal = kp.data.ni_gain0_calibration(allow_download=True)\n",
    "s_cal"
   ]
  },
  {
   "cell_type": "markdown",
   "metadata": {},
   "source": [
    "Get information read with NORDIF calibration patterns"
   ]
  },
  {
   "cell_type": "code",
   "execution_count": null,
   "metadata": {},
   "outputs": [],
   "source": [
    "omd = s_cal.original_metadata.as_dictionary()"
   ]
  },
  {
   "cell_type": "markdown",
   "metadata": {},
   "source": [
    "Plot coordinates of calibration patterns on the secondary electron area overview image (part of the dataset), highlighting the region of interest (ROI)"
   ]
  },
  {
   "cell_type": "code",
   "execution_count": null,
   "metadata": {},
   "outputs": [],
   "source": [
    "kp.draw.plot_pattern_positions_in_map(\n",
    "    rc=omd[\"calibration_patterns\"][\"indices_scaled\"],\n",
    "    roi_shape=omd[\"roi\"][\"shape_scaled\"],\n",
    "    roi_origin=omd[\"roi\"][\"origin_scaled\"],\n",
    "    area_shape=omd[\"area\"][\"shape_scaled\"],\n",
    "    area_image=omd[\"area_image\"],\n",
    "    color=\"w\",\n",
    ")"
   ]
  },
  {
   "cell_type": "markdown",
   "metadata": {},
   "source": [
    "Plot the nine calibration patterns"
   ]
  },
  {
   "cell_type": "code",
   "execution_count": null,
   "metadata": {},
   "outputs": [],
   "source": [
    "fig = plt.figure(figsize=(10, 10))\n",
    "_ = hs.plot.plot_images(\n",
    "    s_cal,\n",
    "    per_row=3,\n",
    "    axes_decor=None,\n",
    "    colorbar=False,\n",
    "    label=None,\n",
    "    fig=fig,\n",
    ")\n",
    "for i, ax in enumerate(fig.axes):\n",
    "    ax.axis(\"off\")\n",
    "    ax.text(5, 10, str(i), va=\"top\", ha=\"left\", c=\"w\", fontsize=20)\n",
    "fig.subplots_adjust(wspace=0.01, hspace=0.01)"
   ]
  },
  {
   "cell_type": "markdown",
   "metadata": {},
   "source": [
    "Improve signal-to-noise ratio by removing the static and dynamic background"
   ]
  },
  {
   "cell_type": "code",
   "execution_count": null,
   "metadata": {},
   "outputs": [],
   "source": [
    "s_cal.remove_static_background()\n",
    "s_cal.remove_dynamic_background()"
   ]
  },
  {
   "cell_type": "markdown",
   "metadata": {},
   "source": [
    "Get an initial EBSD detector to store PC values in"
   ]
  },
  {
   "cell_type": "code",
   "execution_count": null,
   "metadata": {},
   "outputs": [],
   "source": [
    "det_cal = s_cal.detector\n",
    "\n",
    "print(det_cal)\n",
    "print(det_cal.sample_tilt)"
   ]
  },
  {
   "cell_type": "markdown",
   "metadata": {},
   "source": [
    "Set up indexer for Hough indexing with PyEBSDIndex"
   ]
  },
  {
   "cell_type": "code",
   "execution_count": null,
   "metadata": {},
   "outputs": [],
   "source": [
    "indexer_cal = ebsd_index.EBSDIndexer(\n",
    "    phaselist=[\"FCC\"],\n",
    "    vendor=\"kikuchipy\",\n",
    "    sampleTilt=det_cal.sample_tilt,\n",
    "    camElev=det_cal.tilt,\n",
    "    patDim=det_cal.shape,\n",
    ")"
   ]
  },
  {
   "cell_type": "markdown",
   "metadata": {},
   "source": [
    "Prepare patterns for Hough indexing"
   ]
  },
  {
   "cell_type": "code",
   "execution_count": null,
   "metadata": {},
   "outputs": [],
   "source": [
    "patterns_cal = s_cal.data.reshape((-1,) + det_cal.shape)"
   ]
  },
  {
   "cell_type": "markdown",
   "metadata": {},
   "source": [
    "Estimate PCs with Hough indexing, also checking the standard deviation"
   ]
  },
  {
   "cell_type": "code",
   "execution_count": null,
   "metadata": {},
   "outputs": [],
   "source": [
    "pc0 = [0.4, 0.2, 0.5]\n",
    "pcs = pcopt.optimize(\n",
    "    pats=patterns_cal,\n",
    "    indexer=indexer_cal,\n",
    "    PC0=pc0,\n",
    "    batch=True,\n",
    ")\n",
    "\n",
    "print(pcs.mean(axis=0))\n",
    "print(pcs.std(0))"
   ]
  },
  {
   "cell_type": "markdown",
   "metadata": {},
   "source": [
    "Add the PCs to the detector, and plot them"
   ]
  },
  {
   "cell_type": "code",
   "execution_count": null,
   "metadata": {},
   "outputs": [],
   "source": [
    "det_cal.pc = pcs\n",
    "det_cal.plot_pc(\"scatter\", annotate=True)"
   ]
  },
  {
   "cell_type": "markdown",
   "metadata": {},
   "source": [
    "Unfortunately, we do not recognize the spatial distribution from the overview image above, and the expected inverse relation between (PCz, PCy) is not present...\n",
    "We need better indexing of the patterns, which we get by refining the PCs using pattern matching with dynamical simulations.\n",
    "These simulations are created with EMsoft.\n",
    "\n",
    "First, we need an initial guess for the orientations, using Hough indexing.\n",
    "We will use the mean PC for all patterns"
   ]
  },
  {
   "cell_type": "code",
   "execution_count": null,
   "metadata": {},
   "outputs": [],
   "source": [
    "det_cal.pc = det_cal.pc_average"
   ]
  },
  {
   "cell_type": "code",
   "execution_count": null,
   "metadata": {},
   "outputs": [],
   "source": [
    "plt.figure()\n",
    "hi_cal, *_ = indexer_cal.index_pats(\n",
    "    patsin=patterns_cal, PC=det_cal.pc, verbose=2\n",
    ")"
   ]
  },
  {
   "cell_type": "markdown",
   "metadata": {},
   "source": [
    "For easy handling of the returned data, we add it to a [CrystalMap](https://orix.readthedocs.io/en/stable/reference/generated/orix.crystal_map.CrystalMap.html).\n",
    "This map needs a description of the [Phase](https://orix.readthedocs.io/en/stable/reference/generated/orix.crystal_map.Phase.html).\n",
    "In this case, we will use the one loaded with the dynamically simulated master pattern, which we need for refinement"
   ]
  },
  {
   "cell_type": "code",
   "execution_count": null,
   "metadata": {},
   "outputs": [],
   "source": [
    "mp = kp.data.ni_ebsd_master_pattern(\n",
    "    allow_download=True, projection=\"lambert\", energy=20\n",
    ")\n",
    "mp"
   ]
  },
  {
   "cell_type": "markdown",
   "metadata": {},
   "source": [
    "Extract the phase, and change the lattice parameter unit from nm to Ångström"
   ]
  },
  {
   "cell_type": "code",
   "execution_count": null,
   "metadata": {},
   "outputs": [],
   "source": [
    "phase = mp.phase\n",
    "\n",
    "lat = phase.structure.lattice\n",
    "lat.setLatPar(lat.a * 10, lat.b * 10, lat.c * 10)"
   ]
  },
  {
   "cell_type": "code",
   "execution_count": null,
   "metadata": {},
   "outputs": [],
   "source": [
    "print(phase)\n",
    "print(phase.structure)"
   ]
  },
  {
   "cell_type": "markdown",
   "metadata": {},
   "source": [
    "We can now create our crystal map, and print the mean pattern fit (misfit, really) and mean confidence metric (similar to the better known \"confidence index\")"
   ]
  },
  {
   "cell_type": "code",
   "execution_count": null,
   "metadata": {},
   "outputs": [],
   "source": [
    "hi_cal_best = hi_cal[-1]\n",
    "\n",
    "xmap_hi = CrystalMap(\n",
    "    rotations=Rotation(hi_cal_best[\"quat\"]),\n",
    "    phase_list=PhaseList(phase),\n",
    "    prop=dict(\n",
    "        pq=hi_cal_best[\"pq\"],\n",
    "        cm=hi_cal_best[\"cm\"],\n",
    "        fit=hi_cal_best[\"fit\"],\n",
    "        nmatch=hi_cal_best[\"nmatch\"],\n",
    "    ),\n",
    ")\n",
    "\n",
    "print(xmap_hi)\n",
    "print(xmap_hi.fit.mean())\n",
    "print(xmap_hi.cm.mean())"
   ]
  },
  {
   "cell_type": "markdown",
   "metadata": {},
   "source": [
    "Refine the PCs (and orientations) using the Nelder-Mead implementation from NLopt"
   ]
  },
  {
   "cell_type": "code",
   "execution_count": null,
   "metadata": {},
   "outputs": [],
   "source": [
    "xmap_ref, det_ref = s_cal.refine_orientation_projection_center(\n",
    "    xmap=xmap_hi,\n",
    "    detector=det_cal,\n",
    "    master_pattern=mp,\n",
    "    energy=20,\n",
    "    method=\"LN_NELDERMEAD\",\n",
    "    trust_region=[5, 5, 5, 0.05, 0.05, 0.05],\n",
    "    rtol=1e-7,\n",
    "    # A pattern per iteration to use all CPUs\n",
    "    chunk_kwargs=dict(chunk_shape=1),\n",
    ")"
   ]
  },
  {
   "cell_type": "markdown",
   "metadata": {},
   "source": [
    "Inspect some refinement statistics"
   ]
  },
  {
   "cell_type": "code",
   "execution_count": null,
   "metadata": {},
   "outputs": [],
   "source": [
    "print(\"Score mean:\", xmap_ref.scores.mean())\n",
    "print(\"PC mean:\\t\", det_ref.pc.mean(0))\n",
    "print(\"PC std:\\t\\t\", det_ref.pc.std(0))\n",
    "print(\"PC max. diff:\\t\", abs(det_cal.pc - det_ref.pc).max(0))\n",
    "\n",
    "ori_diff = xmap_hi.orientations.angle_with(xmap_ref.orientations).max()\n",
    "print(\"Ori. max. diff [deg]:\", np.rad2deg(ori_diff))"
   ]
  },
  {
   "cell_type": "code",
   "execution_count": null,
   "metadata": {},
   "outputs": [],
   "source": [
    "det_ref.plot_pc(\"scatter\", annotate=True)"
   ]
  },
  {
   "cell_type": "markdown",
   "metadata": {},
   "source": [
    "The diagonals 5-1-0-3-7 and 8-4-0-2-6 seen in the overview image above should be replicated in the (PCx, PCy) scatter plot.\n",
    "We see that 5-1-0-3-7 and 8-0-6 align as expected, but the PC values from the 2nd and 4th patterns do not lie in the expected range.\n",
    "Fitting a plane to all these values might not work to our satisfaction, so we will exclude the 2nd and 4th PC values when fitting a plane to the seven remaining PC values.\n",
    "The plane will have PC values for all points in the ROI in the overview image above."
   ]
  },
  {
   "cell_type": "code",
   "execution_count": null,
   "metadata": {},
   "outputs": [],
   "source": [
    "is_outlier = np.zeros(det_ref.navigation_size, dtype=bool)\n",
    "is_outlier[[2, 4]] = True"
   ]
  },
  {
   "cell_type": "markdown",
   "metadata": {},
   "source": [
    "## Get PC plane by fitting\n",
    "\n",
    "The fitting is done by finding a transformation function which takes 2D sample coordinates and gives PC values for those coordinates.\n",
    "Both an affine and a projective transformation function is supported, following <cite data-cite=\"winkelmann2020refined\">Winkelmann et al. (2020)</cite>.\n",
    "By passing 2D indices of all ROI map points and of the points where the nine calibration patterns were obtained, [EBSDDetector.fit_pc()](../reference/generated/kikuchipy.detectors.EBSDDetector.fit_pc.rst) returns a new detector with PC values for all map points.\n",
    "We will use the maximum difference between the above refined PC values and the corresponding fitted PC values as a measure of how good the fitted PC values are."
   ]
  },
  {
   "cell_type": "code",
   "execution_count": null,
   "metadata": {},
   "outputs": [],
   "source": [
    "pc_indices = omd[\"calibration_patterns\"][\"indices_scaled\"]\n",
    "pc_indices -= omd[\"roi\"][\"origin_scaled\"]\n",
    "pc_indices = pc_indices.T\n",
    "\n",
    "map_indices = np.indices(omd[\"roi\"][\"shape_scaled\"])\n",
    "print(\"Full map shape (n rows, n columns):\", omd[\"roi\"][\"shape_scaled\"])"
   ]
  },
  {
   "cell_type": "markdown",
   "metadata": {},
   "source": [
    "Fit PC values using the affine transformation function"
   ]
  },
  {
   "cell_type": "code",
   "execution_count": null,
   "metadata": {},
   "outputs": [],
   "source": [
    "det_fit_aff = det_ref.fit_pc(\n",
    "    pc_indices=pc_indices,\n",
    "    map_indices=map_indices,\n",
    "    transformation=\"affine\",\n",
    "    is_outlier=is_outlier,\n",
    ")\n",
    "\n",
    "print(det_fit_aff.pc_average)\n",
    "print(det_fit_aff.sample_tilt)"
   ]
  },
  {
   "cell_type": "markdown",
   "metadata": {},
   "source": [
    "Fit PC values using the projective transformation function"
   ]
  },
  {
   "cell_type": "code",
   "execution_count": null,
   "metadata": {},
   "outputs": [],
   "source": [
    "det_fit_proj = det_ref.fit_pc(\n",
    "    pc_indices=pc_indices,\n",
    "    map_indices=map_indices,\n",
    "    transformation=\"projective\",\n",
    "    is_outlier=is_outlier,\n",
    ")\n",
    "\n",
    "print(det_fit_proj.pc_average)\n",
    "print(det_fit_proj.sample_tilt)"
   ]
  },
  {
   "cell_type": "markdown",
   "metadata": {},
   "source": [
    "Compare PC differences of all but the PC values from the 2nd and 4th patterns"
   ]
  },
  {
   "cell_type": "code",
   "execution_count": null,
   "metadata": {},
   "outputs": [],
   "source": [
    "pc_indices2 = pc_indices.T[~is_outlier].T\n",
    "\n",
    "# Refined PC values as a reference (ground truth)\n",
    "pc_ref = det_ref.pc[~is_outlier]\n",
    "\n",
    "# Difference in PC values from the affine transformation function\n",
    "pc_diff_aff = det_fit_aff.pc[tuple(pc_indices2)] - pc_ref\n",
    "pc_diff_aff_max = abs(pc_diff_aff).max(axis=0)\n",
    "print(pc_diff_aff_max)\n",
    "\n",
    "# Difference in PC values from the projective transformation function\n",
    "pc_diff_proj = det_fit_proj.pc[tuple(pc_indices2)] - pc_ref\n",
    "pc_diff_proj_max = abs(pc_diff_proj).max(axis=0)\n",
    "print(pc_diff_proj_max)\n",
    "\n",
    "# Is the difference from the affine transformation function greater than\n",
    "# that from the projective one for (PCx, PCy, PCz)?\n",
    "print(pc_diff_aff_max > pc_diff_proj_max)"
   ]
  },
  {
   "cell_type": "markdown",
   "metadata": {},
   "source": [
    "## Get PC plane by extrapolation\n",
    "\n",
    "Instead of fitting a plane to several PCs, we can extrapolate an average PC using [EBSDDetector.extrapolate_pc()](../reference/generated/kikuchipy.detectors.EBSDDetector.extrapolate_pc.rst).\n",
    "To do this we need to know the detector pixel size and map step sizes, both given in the same unit."
   ]
  },
  {
   "cell_type": "code",
   "execution_count": null,
   "metadata": {},
   "outputs": [],
   "source": [
    "det_ext = det_ref.extrapolate_pc(\n",
    "    pc_indices=pc_indices.T,\n",
    "    navigation_shape=omd[\"roi\"][\"shape_scaled\"],\n",
    "    step_sizes=(1.5, 1.5),  # um\n",
    "    shape=det_cal.shape,\n",
    "    px_size=70,  # In um. This is unique for every detector model!\n",
    "    is_outlier=is_outlier,\n",
    ")\n",
    "\n",
    "print(det_ext.pc_average)\n",
    "print(det_ext.sample_tilt)"
   ]
  },
  {
   "cell_type": "markdown",
   "metadata": {},
   "source": [
    "Difference in PC values between the refined PCs and the corresponding extrapolated PCs"
   ]
  },
  {
   "cell_type": "code",
   "execution_count": null,
   "metadata": {},
   "outputs": [],
   "source": [
    "pc_diff_ext = det_ext.pc[tuple(pc_indices2)] - pc_ref\n",
    "pc_diff_ext_max = abs(pc_diff_ext).max(axis=0)\n",
    "print(pc_diff_ext_max)\n",
    "print(pc_diff_ext_max > pc_diff_aff_max)"
   ]
  },
  {
   "cell_type": "markdown",
   "metadata": {},
   "source": [
    "The extrapolated PCs deviate more from the refined PCs than the PCs obtained from fitting, although the difference is small."
   ]
  },
  {
   "cell_type": "code",
   "execution_count": null,
   "metadata": {
    "nbsphinx-thumbnail": {
     "tooltip": "Get a plane of projection centers (PCs) by extrapolating from a mean PC"
    },
    "tags": [
     "nbsphinx-thumbnail"
    ]
   },
   "outputs": [],
   "source": [
    "det_ext.plot_pc()"
   ]
  },
  {
   "cell_type": "markdown",
   "metadata": {},
   "source": [
    "## Validate extrapolated PCs\n",
    "\n",
    "As a final check of the difference in PCs, we can plot the geometrical simulations on top of the patterns using the refined orientation but the three different PCs."
   ]
  },
  {
   "cell_type": "code",
   "execution_count": null,
   "metadata": {},
   "outputs": [],
   "source": [
    "rlv = ReciprocalLatticeVector.from_min_dspacing(phase)\n",
    "\n",
    "rlv.sanitise_phase()  # \"Fill atoms in unit cell\"\n",
    "\n",
    "rlv.calculate_structure_factor()\n",
    "\n",
    "structure_factor = abs(rlv.structure_factor)\n",
    "rlv = rlv[structure_factor > 0.5 * structure_factor.max()]\n",
    "\n",
    "rlv.print_table()"
   ]
  },
  {
   "cell_type": "code",
   "execution_count": null,
   "metadata": {},
   "outputs": [],
   "source": [
    "simulator = kp.simulations.KikuchiPatternSimulator(rlv)"
   ]
  },
  {
   "cell_type": "markdown",
   "metadata": {},
   "source": [
    "We will use a signal mask during refinement to exclude pattern intensities in the detector corners"
   ]
  },
  {
   "cell_type": "code",
   "execution_count": null,
   "metadata": {},
   "outputs": [],
   "source": [
    "signal_mask = ~kp.filters.Window(\"circular\", shape=det_cal.shape).astype(\n",
    "    bool\n",
    ")"
   ]
  },
  {
   "cell_type": "markdown",
   "metadata": {},
   "source": [
    "Using PCs from the affine transformation function"
   ]
  },
  {
   "cell_type": "code",
   "execution_count": null,
   "metadata": {},
   "outputs": [],
   "source": [
    "det_aff_cal = det_fit_aff.deepcopy()\n",
    "det_aff_cal.pc = det_aff_cal.pc[tuple(pc_indices)]"
   ]
  },
  {
   "cell_type": "code",
   "execution_count": null,
   "metadata": {},
   "outputs": [],
   "source": [
    "xmap_aff = s_cal.refine_orientation(\n",
    "    xmap=xmap_hi,\n",
    "    detector=det_aff_cal,\n",
    "    master_pattern=mp,\n",
    "    energy=20,\n",
    "    signal_mask=signal_mask,\n",
    "    method=\"LN_NELDERMEAD\",\n",
    "    trust_region=[5, 5, 5],\n",
    "    rtol=1e-7,\n",
    "    # A pattern per iteration to use all CPUs\n",
    "    chunk_kwargs=dict(chunk_shape=1),\n",
    ")"
   ]
  },
  {
   "cell_type": "code",
   "execution_count": null,
   "metadata": {},
   "outputs": [],
   "source": [
    "sim_aff = simulator.on_detector(det_aff_cal, xmap_aff.rotations)"
   ]
  },
  {
   "cell_type": "markdown",
   "metadata": {},
   "source": [
    "Using PCs from the projective transformation function"
   ]
  },
  {
   "cell_type": "code",
   "execution_count": null,
   "metadata": {},
   "outputs": [],
   "source": [
    "det_proj_cal = det_fit_proj.deepcopy()\n",
    "det_proj_cal.pc = det_proj_cal.pc[tuple(pc_indices)]"
   ]
  },
  {
   "cell_type": "code",
   "execution_count": null,
   "metadata": {},
   "outputs": [],
   "source": [
    "xmap_proj = s_cal.refine_orientation(\n",
    "    xmap=xmap_hi,\n",
    "    detector=det_proj_cal,\n",
    "    master_pattern=mp,\n",
    "    energy=20,\n",
    "    signal_mask=signal_mask,\n",
    "    method=\"LN_NELDERMEAD\",\n",
    "    trust_region=[5, 5, 5],\n",
    "    rtol=1e-7,\n",
    "    # A pattern per iteration to use all CPUs\n",
    "    chunk_kwargs=dict(chunk_shape=1),\n",
    ")"
   ]
  },
  {
   "cell_type": "code",
   "execution_count": null,
   "metadata": {},
   "outputs": [],
   "source": [
    "sim_proj = simulator.on_detector(det_proj_cal, xmap_proj.rotations)"
   ]
  },
  {
   "cell_type": "markdown",
   "metadata": {},
   "source": [
    "Using the extrapolated PCs"
   ]
  },
  {
   "cell_type": "code",
   "execution_count": null,
   "metadata": {},
   "outputs": [],
   "source": [
    "det_ext_cal = det_ext.deepcopy()\n",
    "det_ext_cal.pc = det_ext_cal.pc[tuple(pc_indices)]"
   ]
  },
  {
   "cell_type": "code",
   "execution_count": null,
   "metadata": {},
   "outputs": [],
   "source": [
    "xmap_ext = s_cal.refine_orientation(\n",
    "    xmap=xmap_hi,\n",
    "    detector=det_ext_cal,\n",
    "    master_pattern=mp,\n",
    "    energy=20,\n",
    "    signal_mask=signal_mask,\n",
    "    method=\"LN_NELDERMEAD\",\n",
    "    trust_region=[5, 5, 5],\n",
    "    rtol=1e-7,\n",
    "    # A pattern per iteration to use all CPUs\n",
    "    chunk_kwargs=dict(chunk_shape=1),\n",
    ")"
   ]
  },
  {
   "cell_type": "code",
   "execution_count": null,
   "metadata": {},
   "outputs": [],
   "source": [
    "sim_ext = simulator.on_detector(det_ext_cal, xmap_ext.rotations)"
   ]
  },
  {
   "cell_type": "markdown",
   "metadata": {},
   "source": [
    "Compare normalized cross-correlation scores"
   ]
  },
  {
   "cell_type": "code",
   "execution_count": null,
   "metadata": {},
   "outputs": [],
   "source": [
    "print(f\"Affine:\\t\\t{xmap_aff.scores.mean():.7f}\")\n",
    "print(f\"Projective:\\t{xmap_proj.scores.mean():.7f}\")\n",
    "print(f\"Extrapolated:\\t{xmap_ext.scores.mean():.7f}\")"
   ]
  },
  {
   "cell_type": "markdown",
   "metadata": {},
   "source": [
    "Plot Kikuchi bands on top of patterns for the solutions using the affine transformed PCs (red), projective transformed PCs (blue) and extrapolated PCs (white)"
   ]
  },
  {
   "cell_type": "code",
   "execution_count": null,
   "metadata": {},
   "outputs": [],
   "source": [
    "fig, axes = plt.subplots(ncols=3, nrows=3, figsize=(12, 12))\n",
    "for i, ax in enumerate(axes.ravel()):\n",
    "    ax.imshow(s_cal.inav[i].data, cmap=\"gray\")\n",
    "    ax.axis(\"off\")\n",
    "\n",
    "    # Affine\n",
    "    lines = sim_aff.as_collections(\n",
    "        i, lines_kwargs=dict(linewidth=4, alpha=0.4)\n",
    "    )[0]\n",
    "    ax.add_collection(lines)\n",
    "\n",
    "    # Projective\n",
    "    lines = sim_proj.as_collections(\n",
    "        i, lines_kwargs=dict(color=\"b\", linewidth=3, alpha=0.4)\n",
    "    )[0]\n",
    "    ax.add_collection(lines)\n",
    "\n",
    "    # Extrapolated\n",
    "    lines = sim_ext.as_collections(\n",
    "        i, lines_kwargs=dict(color=\"w\", linewidth=1, alpha=0.4)\n",
    "    )[0]\n",
    "    ax.add_collection(lines)\n",
    "\n",
    "    ax.text(5, 10, i, c=\"w\", va=\"top\", ha=\"left\", fontsize=20)\n",
    "fig.subplots_adjust(wspace=0.01, hspace=0.01)"
   ]
  },
  {
   "cell_type": "markdown",
   "metadata": {},
   "source": [
    "As expected from the intermediate results above (similar PCs and mean NCC score), all PCs produce visually identical geometrical simulations.\n",
    "However, the orientations are still slightly different, as we see by calculating the misorientation angles between the orientations obtained using the extrapolated PCs and the fitted PCs"
   ]
  },
  {
   "cell_type": "code",
   "execution_count": null,
   "metadata": {},
   "outputs": [],
   "source": [
    "np.rad2deg(xmap_proj.orientations.angle_with(xmap_ext.orientations))"
   ]
  },
  {
   "cell_type": "markdown",
   "metadata": {},
   "source": [
    "A misorientation of almost 3$^{\\circ}$ is significant.\n",
    "Since these are experimental data, it's difficult to say which orientations are more correct for the grains from which the calibration patterns were obtained.\n",
    "A test with known orientations with respect to the sample reference frame should be done in order to test which PCs are more correct."
   ]
  }
 ],
 "metadata": {
  "kernelspec": {
   "display_name": "Python 3 (ipykernel)",
   "language": "python",
   "name": "python3"
  },
  "language_info": {
   "codemirror_mode": {
    "name": "ipython",
    "version": 3
   },
   "file_extension": ".py",
   "mimetype": "text/x-python",
   "name": "python",
   "nbconvert_exporter": "python",
   "pygments_lexer": "ipython3",
   "version": "3.10.8"
  }
 },
 "nbformat": 4,
 "nbformat_minor": 4
}
