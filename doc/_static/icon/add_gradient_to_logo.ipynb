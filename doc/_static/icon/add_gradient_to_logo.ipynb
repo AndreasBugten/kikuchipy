{
 "cells": [
  {
   "cell_type": "code",
   "execution_count": 54,
   "metadata": {},
   "outputs": [],
   "source": [
    "%matplotlib qt5\n",
    "\n",
    "import copy\n",
    "import os\n",
    "\n",
    "import hyperspy.api as hs\n",
    "import matplotlib.pyplot as plt\n",
    "import numpy as np\n",
    "from skimage.exposure import rescale_intensity\n",
    "\n",
    "#import kikuchipy as kp"
   ]
  },
  {
   "cell_type": "code",
   "execution_count": 22,
   "metadata": {},
   "outputs": [],
   "source": [
    "datadir = \"/home/hakon/phd/data/ni/2020/1\"\n",
    "fname0 = \"nordif/Pattern.dat\"\n",
    "fname1 = \"kp/ni1_sdan299.h5\"\n",
    "\n",
    "s0 = kp.load(os.path.join(datadir, fname0))\n",
    "s1 = kp.load(os.path.join(datadir, fname1))"
   ]
  },
  {
   "cell_type": "code",
   "execution_count": 23,
   "metadata": {},
   "outputs": [
    {
     "name": "stdout",
     "output_type": "stream",
     "text": [
      "Calculating the image quality:\n",
      "[########################################] | 100% Completed |  4.0s\n"
     ]
    }
   ],
   "source": [
    "iq = s1.get_image_quality()"
   ]
  },
  {
   "cell_type": "code",
   "execution_count": 24,
   "metadata": {},
   "outputs": [
    {
     "name": "stdout",
     "output_type": "stream",
     "text": [
      "Getting the dynamic background:\n",
      "[########################################] | 100% Completed |  6.0s\n"
     ]
    }
   ],
   "source": [
    "bg = s0.get_dynamic_background()"
   ]
  },
  {
   "cell_type": "code",
   "execution_count": 25,
   "metadata": {},
   "outputs": [],
   "source": [
    "hs.plot.plot_signals([s1, bg], navigator=hs.signals.Signal2D(iq))"
   ]
  },
  {
   "cell_type": "code",
   "execution_count": 128,
   "metadata": {},
   "outputs": [],
   "source": [
    "y, x = (154, 25)\n",
    "\n",
    "\n",
    "pbg = bg.inav[y, x].data\n",
    "ps1 = s1.inav[y, x].data\n",
    "\n",
    "percentiles = np.percentile(ps1, q=(1.5, 98.5))\n",
    "\n",
    "ps1 = kp.util.pattern.rescale_intensity(ps1, in_range=percentiles)\n",
    "\n",
    "plt.imshow(ps1)\n",
    "\n",
    "plt.imsave(os.path.join(datadir, \"bg.bmp\"), arr=pbg, cmap=\"viridis\")\n",
    "plt.imsave(os.path.join(datadir, \"p1.bmp\"), arr=ps1, cmap=\"viridis\")"
   ]
  },
  {
   "cell_type": "markdown",
   "metadata": {},
   "source": [
    "# Icon"
   ]
  },
  {
   "cell_type": "code",
   "execution_count": 35,
   "metadata": {},
   "outputs": [],
   "source": [
    "datadir = \"/home/hakon/\"\n",
    "fname = \"g2435.png\"\n",
    "im_file = os.path.join(datadir, fname)\n",
    "\n",
    "im = plt.imread(im_file)"
   ]
  },
  {
   "cell_type": "code",
   "execution_count": 107,
   "metadata": {},
   "outputs": [],
   "source": [
    "sy, sx, _ = im.shape\n",
    "extent = (50, 255)\n",
    "\n",
    "cmap = \"magma\"\n",
    "\n",
    "idx = np.linspace(extent[0], extent[1], num=sx, dtype=int)\n",
    "rgb_idx = plt.get_cmap(cmap)(idx)[:, :3]\n",
    "\n",
    "im2 = copy.deepcopy(im[:, :, :3])\n",
    "\n",
    "for ix in range(sx):\n",
    "    im2[:, ix] *= rgb_idx[ix]\n",
    "\n",
    "#plt.imshow(im2)\n",
    "percentiles = np.percentile(im2, q=(0, 98))\n",
    "im3 = rescale_intensity(im2, in_range=tuple(percentiles), out_range=np.float32)\n",
    "plt.imshow(im3)\n",
    "\n",
    "outdir = \"/home/hakon/kode/kikuchipy/doc/_static/icon\"\n",
    "plt.imsave(os.path.join(outdir, f\"{cmap}_im.png\"), arr=im3)\n",
    "\n",
    "plt.figure()\n",
    "plt.hist(im3.ravel(), bins=255);"
   ]
  },
  {
   "cell_type": "code",
   "execution_count": 108,
   "metadata": {},
   "outputs": [],
   "source": [
    "plt.close(\"all\")"
   ]
  }
 ],
 "metadata": {
  "kernelspec": {
   "display_name": "Python 3",
   "language": "python",
   "name": "python3"
  },
  "language_info": {
   "codemirror_mode": {
    "name": "ipython",
    "version": 3
   },
   "file_extension": ".py",
   "mimetype": "text/x-python",
   "name": "python",
   "nbconvert_exporter": "python",
   "pygments_lexer": "ipython3",
   "version": "3.8.2"
  }
 },
 "nbformat": 4,
 "nbformat_minor": 4
}
